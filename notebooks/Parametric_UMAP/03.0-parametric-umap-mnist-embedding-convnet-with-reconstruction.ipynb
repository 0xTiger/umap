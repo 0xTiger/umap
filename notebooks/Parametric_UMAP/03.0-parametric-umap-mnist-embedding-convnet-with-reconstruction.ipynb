{
 "cells": [
  {
   "cell_type": "markdown",
   "metadata": {},
   "source": [
    "### Reconstruction with a custom network. \n",
    "This notebook extends the last notebook to simultaneously train a decoder network, which translates from embedding back into dataspace. It also shows you how to use validation data for the reconstruction network during training."
   ]
  },
  {
   "cell_type": "markdown",
   "metadata": {},
   "source": [
    "### load data"
   ]
  },
  {
   "cell_type": "code",
   "execution_count": 1,
   "metadata": {
    "ExecuteTime": {
     "end_time": "2021-04-20T04:17:45.601434Z",
     "start_time": "2021-04-20T04:17:44.407632Z"
    }
   },
   "outputs": [],
   "source": [
    "import tensorflow as tf"
   ]
  },
  {
   "cell_type": "code",
   "execution_count": 2,
   "metadata": {
    "ExecuteTime": {
     "end_time": "2021-04-20T04:17:45.610480Z",
     "start_time": "2021-04-20T04:17:45.602645Z"
    }
   },
   "outputs": [
    {
     "data": {
      "text/plain": [
       "'2.4.1'"
      ]
     },
     "execution_count": 2,
     "metadata": {},
     "output_type": "execute_result"
    }
   ],
   "source": [
    "tf.__version__"
   ]
  },
  {
   "cell_type": "code",
   "execution_count": 3,
   "metadata": {
    "ExecuteTime": {
     "end_time": "2021-04-20T04:17:45.940666Z",
     "start_time": "2021-04-20T04:17:45.612371Z"
    }
   },
   "outputs": [],
   "source": [
    "from tensorflow.keras.datasets import mnist\n",
    "(train_images, Y_train), (test_images, Y_test) = mnist.load_data()\n",
    "train_images = train_images.reshape((train_images.shape[0], -1))/255.\n",
    "test_images = test_images.reshape((test_images.shape[0], -1))/255."
   ]
  },
  {
   "cell_type": "markdown",
   "metadata": {},
   "source": [
    "### define the encoder network"
   ]
  },
  {
   "cell_type": "code",
   "execution_count": 4,
   "metadata": {
    "ExecuteTime": {
     "end_time": "2021-04-20T04:17:45.944393Z",
     "start_time": "2021-04-20T04:17:45.942226Z"
    }
   },
   "outputs": [],
   "source": [
    "import tensorflow as tf"
   ]
  },
  {
   "cell_type": "code",
   "execution_count": 5,
   "metadata": {
    "ExecuteTime": {
     "end_time": "2021-04-20T04:17:45.955907Z",
     "start_time": "2021-04-20T04:17:45.945717Z"
    }
   },
   "outputs": [
    {
     "data": {
      "text/plain": [
       "'2.4.1'"
      ]
     },
     "execution_count": 5,
     "metadata": {},
     "output_type": "execute_result"
    }
   ],
   "source": [
    "tf.__version__"
   ]
  },
  {
   "cell_type": "code",
   "execution_count": 6,
   "metadata": {
    "ExecuteTime": {
     "end_time": "2021-04-20T04:17:46.050543Z",
     "start_time": "2021-04-20T04:17:45.958289Z"
    }
   },
   "outputs": [
    {
     "data": {
      "text/plain": [
       "[PhysicalDevice(name='/physical_device:GPU:0', device_type='GPU'),\n",
       " PhysicalDevice(name='/physical_device:GPU:1', device_type='GPU')]"
      ]
     },
     "execution_count": 6,
     "metadata": {},
     "output_type": "execute_result"
    }
   ],
   "source": [
    "tf.config.list_physical_devices('GPU')"
   ]
  },
  {
   "cell_type": "code",
   "execution_count": 7,
   "metadata": {
    "ExecuteTime": {
     "end_time": "2021-04-20T04:17:47.236974Z",
     "start_time": "2021-04-20T04:17:46.052075Z"
    }
   },
   "outputs": [
    {
     "name": "stdout",
     "output_type": "stream",
     "text": [
      "Model: \"sequential\"\n",
      "_________________________________________________________________\n",
      "Layer (type)                 Output Shape              Param #   \n",
      "=================================================================\n",
      "conv2d (Conv2D)              (None, 14, 14, 64)        640       \n",
      "_________________________________________________________________\n",
      "conv2d_1 (Conv2D)            (None, 7, 7, 128)         73856     \n",
      "_________________________________________________________________\n",
      "flatten (Flatten)            (None, 6272)              0         \n",
      "_________________________________________________________________\n",
      "dense (Dense)                (None, 512)               3211776   \n",
      "_________________________________________________________________\n",
      "dense_1 (Dense)              (None, 512)               262656    \n",
      "_________________________________________________________________\n",
      "dense_2 (Dense)              (None, 2)                 1026      \n",
      "=================================================================\n",
      "Total params: 3,549,954\n",
      "Trainable params: 3,549,954\n",
      "Non-trainable params: 0\n",
      "_________________________________________________________________\n"
     ]
    }
   ],
   "source": [
    "dims = (28,28, 1)\n",
    "n_components = 2\n",
    "encoder = tf.keras.Sequential([\n",
    "    tf.keras.layers.InputLayer(input_shape=dims),\n",
    "    tf.keras.layers.Conv2D(\n",
    "        filters=64, kernel_size=3, strides=(2, 2), activation=\"relu\", padding=\"same\"\n",
    "    ),\n",
    "    tf.keras.layers.Conv2D(\n",
    "        filters=128, kernel_size=3, strides=(2, 2), activation=\"relu\", padding=\"same\"\n",
    "    ),\n",
    "    tf.keras.layers.Flatten(),\n",
    "    tf.keras.layers.Dense(units=512, activation=\"relu\"),\n",
    "    tf.keras.layers.Dense(units=512, activation=\"relu\"),\n",
    "    tf.keras.layers.Dense(units=n_components),\n",
    "])\n",
    "encoder.summary()"
   ]
  },
  {
   "cell_type": "code",
   "execution_count": 8,
   "metadata": {
    "ExecuteTime": {
     "end_time": "2021-04-20T04:17:47.291316Z",
     "start_time": "2021-04-20T04:17:47.238276Z"
    }
   },
   "outputs": [
    {
     "name": "stdout",
     "output_type": "stream",
     "text": [
      "Model: \"sequential_1\"\n",
      "_________________________________________________________________\n",
      "Layer (type)                 Output Shape              Param #   \n",
      "=================================================================\n",
      "dense_3 (Dense)              (None, 512)               1536      \n",
      "_________________________________________________________________\n",
      "dense_4 (Dense)              (None, 12544)             6435072   \n",
      "_________________________________________________________________\n",
      "reshape (Reshape)            (None, 7, 7, 256)         0         \n",
      "_________________________________________________________________\n",
      "conv2d_transpose (Conv2DTran (None, 14, 14, 128)       295040    \n",
      "_________________________________________________________________\n",
      "conv2d_transpose_1 (Conv2DTr (None, 28, 28, 64)        73792     \n",
      "_________________________________________________________________\n",
      "conv2d_transpose_2 (Conv2DTr (None, 28, 28, 1)         577       \n",
      "=================================================================\n",
      "Total params: 6,806,017\n",
      "Trainable params: 6,806,017\n",
      "Non-trainable params: 0\n",
      "_________________________________________________________________\n"
     ]
    }
   ],
   "source": [
    "decoder = tf.keras.Sequential([\n",
    "    tf.keras.layers.InputLayer(input_shape=(n_components)),\n",
    "    tf.keras.layers.Dense(units=512, activation=\"relu\"),\n",
    "    tf.keras.layers.Dense(units=7 * 7 * 256, activation=\"relu\"),\n",
    "    tf.keras.layers.Reshape(target_shape=(7, 7, 256)),\n",
    "    tf.keras.layers.Conv2DTranspose(\n",
    "        filters=128, kernel_size=3, strides=(2, 2), padding=\"SAME\", activation=\"relu\"\n",
    "    ),\n",
    "    tf.keras.layers.Conv2DTranspose(\n",
    "        filters=64, kernel_size=3, strides=(2, 2), padding=\"SAME\", activation=\"relu\"\n",
    "    ),\n",
    "    tf.keras.layers.Conv2DTranspose(\n",
    "        filters=1, kernel_size=3, strides=(1, 1), padding=\"SAME\", activation=\"sigmoid\"\n",
    "    )\n",
    "])\n",
    "decoder.summary()"
   ]
  },
  {
   "cell_type": "markdown",
   "metadata": {
    "ExecuteTime": {
     "end_time": "2020-08-16T22:12:46.790121Z",
     "start_time": "2020-08-16T22:12:46.759185Z"
    }
   },
   "source": [
    "### create parametric umap model"
   ]
  },
  {
   "cell_type": "code",
   "execution_count": 9,
   "metadata": {
    "ExecuteTime": {
     "end_time": "2021-04-20T04:17:50.264141Z",
     "start_time": "2021-04-20T04:17:47.292534Z"
    }
   },
   "outputs": [],
   "source": [
    "from umap.parametric_umap import ParametricUMAP"
   ]
  },
  {
   "cell_type": "code",
   "execution_count": 10,
   "metadata": {
    "ExecuteTime": {
     "end_time": "2021-04-20T04:17:50.268496Z",
     "start_time": "2021-04-20T04:17:50.265462Z"
    }
   },
   "outputs": [],
   "source": [
    "embedder = ParametricUMAP(\n",
    "    encoder=encoder,\n",
    "    decoder=decoder,\n",
    "    dims=dims,\n",
    "    n_components=n_components,\n",
    "    n_training_epochs=1,\n",
    "    n_epochs = 50, \n",
    "    parametric_reconstruction= True,\n",
    "    reconstruction_validation=test_images,\n",
    "    verbose=True,\n",
    ")"
   ]
  },
  {
   "cell_type": "code",
   "execution_count": 11,
   "metadata": {
    "ExecuteTime": {
     "end_time": "2021-04-20T04:17:50.280318Z",
     "start_time": "2021-04-20T04:17:50.269573Z"
    }
   },
   "outputs": [
    {
     "data": {
      "text/plain": [
       "(60000, 784)"
      ]
     },
     "execution_count": 11,
     "metadata": {},
     "output_type": "execute_result"
    }
   ],
   "source": [
    "train_images.shape"
   ]
  },
  {
   "cell_type": "code",
   "execution_count": 12,
   "metadata": {
    "ExecuteTime": {
     "end_time": "2021-04-20T04:41:00.314019Z",
     "start_time": "2021-04-20T04:17:50.281633Z"
    },
    "scrolled": true
   },
   "outputs": [
    {
     "name": "stdout",
     "output_type": "stream",
     "text": [
      "ParametricUMAP(decoder=<tensorflow.python.keras.engine.sequential.Sequential object at 0x7fb64d57bf10>,\n",
      "               dims=(28, 28, 1),\n",
      "               encoder=<tensorflow.python.keras.engine.sequential.Sequential object at 0x7fb64e013550>,\n",
      "               optimizer=<tensorflow.python.keras.optimizer_v2.adam.Adam object at 0x7fb51c02bb20>,\n",
      "               parametric_reconstruction=True,\n",
      "               reconstruction_validation=array([[0., 0., 0., ..., 0., 0., 0.],\n",
      "       [0., 0., 0., ..., 0., 0., 0.],\n",
      "       [0., 0., 0., ..., 0., 0., 0.],\n",
      "       ...,\n",
      "       [0., 0., 0., ..., 0., 0., 0.],\n",
      "       [0., 0., 0., ..., 0., 0., 0.],\n",
      "       [0., 0., 0., ..., 0., 0., 0.]]))\n",
      "Construct fuzzy simplicial set\n",
      "Mon Apr 19 21:17:50 2021 Finding Nearest Neighbors\n",
      "Mon Apr 19 21:17:50 2021 Building RP forest with 17 trees\n",
      "Mon Apr 19 21:17:52 2021 parallel NN descent for 16 iterations\n",
      "\t 0  /  16\n",
      "\t 1  /  16\n",
      "\t 2  /  16\n",
      "\t 3  /  16\n",
      "\t 4  /  16\n",
      "Mon Apr 19 21:18:00 2021 Finished Nearest Neighbor Search\n",
      "Mon Apr 19 21:18:02 2021 Construct embedding\n",
      "Epoch 1/10\n",
      "1905/1905 [==============================] - 239s 96ms/step - loss: 0.4424 - reconstruction_loss: 0.2301 - umap_loss: 0.2124 - val_loss: 0.1877 - val_reconstruction_loss: 0.1877 - val_umap_loss: 0.0000e+00\n",
      "Epoch 2/10\n",
      "1905/1905 [==============================] - 125s 66ms/step - loss: 0.3020 - reconstruction_loss: 0.1822 - umap_loss: 0.1198 - val_loss: 0.1819 - val_reconstruction_loss: 0.1819 - val_umap_loss: 0.0000e+00\n",
      "Epoch 3/10\n",
      "1905/1905 [==============================] - 125s 66ms/step - loss: 0.2921 - reconstruction_loss: 0.1822 - umap_loss: 0.1099 - val_loss: 0.1867 - val_reconstruction_loss: 0.1867 - val_umap_loss: 0.0000e+00\n",
      "Epoch 4/10\n",
      "1905/1905 [==============================] - 125s 65ms/step - loss: 0.2838 - reconstruction_loss: 0.1784 - umap_loss: 0.1054 - val_loss: 0.1827 - val_reconstruction_loss: 0.1827 - val_umap_loss: 0.0000e+00\n",
      "Epoch 5/10\n",
      "1905/1905 [==============================] - 125s 65ms/step - loss: 0.2796 - reconstruction_loss: 0.1776 - umap_loss: 0.1020 - val_loss: 0.1835 - val_reconstruction_loss: 0.1835 - val_umap_loss: 0.0000e+00\n",
      "Epoch 6/10\n",
      "1905/1905 [==============================] - 125s 66ms/step - loss: 0.2747 - reconstruction_loss: 0.1751 - umap_loss: 0.0997 - val_loss: 0.1845 - val_reconstruction_loss: 0.1845 - val_umap_loss: 0.0000e+00\n",
      "Epoch 7/10\n",
      "1905/1905 [==============================] - 125s 66ms/step - loss: 0.2727 - reconstruction_loss: 0.1741 - umap_loss: 0.0987 - val_loss: 0.1859 - val_reconstruction_loss: 0.1859 - val_umap_loss: 0.0000e+00\n",
      "Epoch 8/10\n",
      "1905/1905 [==============================] - 124s 65ms/step - loss: 0.2703 - reconstruction_loss: 0.1726 - umap_loss: 0.0977 - val_loss: 0.1974 - val_reconstruction_loss: 0.1974 - val_umap_loss: 0.0000e+00\n",
      "Epoch 9/10\n",
      "1905/1905 [==============================] - 125s 66ms/step - loss: 0.2669 - reconstruction_loss: 0.1701 - umap_loss: 0.0968 - val_loss: 0.1743 - val_reconstruction_loss: 0.1743 - val_umap_loss: 0.0000e+00\n",
      "Epoch 10/10\n",
      "1905/1905 [==============================] - 124s 65ms/step - loss: 0.2644 - reconstruction_loss: 0.1686 - umap_loss: 0.0958 - val_loss: 0.1733 - val_reconstruction_loss: 0.1733 - val_umap_loss: 0.0000e+00\n",
      "1875/1875 [==============================] - 4s 2ms/step\n",
      "Mon Apr 19 21:41:00 2021 Finished embedding\n"
     ]
    }
   ],
   "source": [
    "embedding = embedder.fit_transform(train_images)"
   ]
  },
  {
   "cell_type": "markdown",
   "metadata": {},
   "source": [
    "### plot reconstructions"
   ]
  },
  {
   "cell_type": "code",
   "execution_count": 13,
   "metadata": {
    "ExecuteTime": {
     "end_time": "2021-04-20T04:41:00.824749Z",
     "start_time": "2021-04-20T04:41:00.316613Z"
    }
   },
   "outputs": [
    {
     "name": "stdout",
     "output_type": "stream",
     "text": [
      "10/10 [==============================] - 0s 4ms/step\n",
      "10/10 [==============================] - 0s 31ms/step\n"
     ]
    }
   ],
   "source": [
    "test_images_recon = embedder.inverse_transform(embedder.transform(test_images.reshape(len(test_images), 28,28,1)))"
   ]
  },
  {
   "cell_type": "code",
   "execution_count": 14,
   "metadata": {
    "ExecuteTime": {
     "end_time": "2021-04-20T04:41:00.991220Z",
     "start_time": "2021-04-20T04:41:00.826703Z"
    }
   },
   "outputs": [],
   "source": [
    "import numpy as np\n",
    "import matplotlib.pyplot as plt"
   ]
  },
  {
   "cell_type": "code",
   "execution_count": 15,
   "metadata": {
    "ExecuteTime": {
     "end_time": "2021-04-20T04:41:01.012807Z",
     "start_time": "2021-04-20T04:41:00.992910Z"
    }
   },
   "outputs": [
    {
     "data": {
      "text/plain": [
       "(0.0, 1.0)"
      ]
     },
     "execution_count": 15,
     "metadata": {},
     "output_type": "execute_result"
    }
   ],
   "source": [
    "np.min(test_images), np.max(test_images)"
   ]
  },
  {
   "cell_type": "code",
   "execution_count": 16,
   "metadata": {
    "ExecuteTime": {
     "end_time": "2021-04-20T04:41:02.635952Z",
     "start_time": "2021-04-20T04:41:01.014499Z"
    }
   },
   "outputs": [
    {
     "data": {
      "image/png": "[encoded data removed]",
      "text/plain": [
       "<Figure size 720x144 with 20 Axes>"
      ]
     },
     "metadata": {
      "needs_background": "light"
     },
     "output_type": "display_data"
    }
   ],
   "source": [
    "nex = 10\n",
    "fig, axs = plt.subplots(ncols=10, nrows=2, figsize=(nex, 2))\n",
    "for i in range(nex):\n",
    "    axs[0, i].matshow(np.squeeze(test_images[i].reshape(28, 28, 1)), cmap=plt.cm.Greys)\n",
    "    axs[1, i].matshow(\n",
    "        tf.nn.sigmoid(np.squeeze(test_images_recon[i].reshape(28, 28, 1))),\n",
    "        cmap=plt.cm.Greys,\n",
    "    )\n",
    "for ax in axs.flatten():\n",
    "    ax.axis(\"off\")"
   ]
  },
  {
   "cell_type": "markdown",
   "metadata": {},
   "source": [
    "### plot results"
   ]
  },
  {
   "cell_type": "code",
   "execution_count": 17,
   "metadata": {
    "ExecuteTime": {
     "end_time": "2021-04-20T04:41:02.640372Z",
     "start_time": "2021-04-20T04:41:02.637711Z"
    }
   },
   "outputs": [],
   "source": [
    "embedding = embedder.embedding_"
   ]
  },
  {
   "cell_type": "code",
   "execution_count": 18,
   "metadata": {
    "ExecuteTime": {
     "end_time": "2021-04-20T04:41:02.650642Z",
     "start_time": "2021-04-20T04:41:02.641700Z"
    }
   },
   "outputs": [],
   "source": [
    "import matplotlib.pyplot as plt"
   ]
  },
  {
   "cell_type": "code",
   "execution_count": 19,
   "metadata": {
    "ExecuteTime": {
     "end_time": "2021-04-20T04:41:03.344539Z",
     "start_time": "2021-04-20T04:41:02.652136Z"
    }
   },
   "outputs": [
    {
     "data": {
      "image/png": "[encoded data removed]",
      "text/plain": [
       "<Figure size 576x576 with 2 Axes>"
      ]
     },
     "metadata": {
      "needs_background": "light"
     },
     "output_type": "display_data"
    }
   ],
   "source": [
    "fig, ax = plt.subplots( figsize=(8, 8))\n",
    "sc = ax.scatter(\n",
    "    embedding[:, 0],\n",
    "    embedding[:, 1],\n",
    "    c=Y_train.astype(int),\n",
    "    cmap=\"tab10\",\n",
    "    s=0.1,\n",
    "    alpha=0.5,\n",
    "    rasterized=True,\n",
    ")\n",
    "ax.axis('equal')\n",
    "ax.set_title(\"UMAP in Tensorflow embedding\", fontsize=20)\n",
    "plt.colorbar(sc, ax=ax);"
   ]
  },
  {
   "cell_type": "markdown",
   "metadata": {},
   "source": [
    "### plotting loss"
   ]
  },
  {
   "cell_type": "code",
   "execution_count": 20,
   "metadata": {
    "ExecuteTime": {
     "end_time": "2021-04-20T04:41:03.350569Z",
     "start_time": "2021-04-20T04:41:03.346555Z"
    }
   },
   "outputs": [
    {
     "data": {
      "text/plain": [
       "dict_keys(['loss', 'reconstruction_loss', 'umap_loss', 'val_loss', 'val_reconstruction_loss', 'val_umap_loss'])"
      ]
     },
     "execution_count": 20,
     "metadata": {},
     "output_type": "execute_result"
    }
   ],
   "source": [
    "embedder._history.keys()"
   ]
  },
  {
   "cell_type": "code",
   "execution_count": 21,
   "metadata": {
    "ExecuteTime": {
     "end_time": "2021-04-20T04:41:03.533806Z",
     "start_time": "2021-04-20T04:41:03.351947Z"
    }
   },
   "outputs": [
    {
     "data": {
      "text/plain": [
       "Text(0.5, 0, 'Epoch')"
      ]
     },
     "execution_count": 21,
     "metadata": {},
     "output_type": "execute_result"
    },
    {
     "data": {
      "image/png": "[encoded data removed]",
      "text/plain": [
       "<Figure size 720x360 with 2 Axes>"
      ]
     },
     "metadata": {
      "needs_background": "light"
     },
     "output_type": "display_data"
    }
   ],
   "source": [
    "fig, axs = plt.subplots(ncols=2, figsize=(10,5))\n",
    "ax = axs[0]\n",
    "ax.plot(embedder._history['loss'])\n",
    "ax.set_ylabel('Cross Entropy')\n",
    "ax.set_xlabel('Epoch')\n",
    "\n",
    "ax = axs[1]\n",
    "ax.plot(embedder._history['reconstruction_loss'], label='train')\n",
    "ax.plot(embedder._history['val_reconstruction_loss'], label='valid')\n",
    "ax.legend()\n",
    "ax.set_ylabel('Cross Entropy')\n",
    "ax.set_xlabel('Epoch')"
   ]
  },
  {
   "cell_type": "code",
   "execution_count": null,
   "metadata": {},
   "outputs": [],
   "source": []
  }
 ],
 "metadata": {
  "kernelspec": {
   "display_name": "Python [conda env:umap_dev_new]",
   "language": "python",
   "name": "conda-env-umap_dev_new-py"
  },
  "language_info": {
   "codemirror_mode": {
    "name": "ipython",
    "version": 3
   },
   "file_extension": ".py",
   "mimetype": "text/x-python",
   "name": "python",
   "nbconvert_exporter": "python",
   "pygments_lexer": "ipython3",
   "version": "3.8.8"
  }
 },
 "nbformat": 4,
 "nbformat_minor": 2
}
